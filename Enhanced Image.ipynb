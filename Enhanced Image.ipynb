{
 "cells": [
  {
   "cell_type": "code",
   "execution_count": 2,
   "id": "90a91e58-3e2d-4953-90a7-002df99b09ec",
   "metadata": {},
   "outputs": [],
   "source": [
    "from skimage import io, exposure, filters, restoration\n",
    "import os\n",
    "import numpy as np"
   ]
  },
  {
   "cell_type": "code",
   "execution_count": 4,
   "id": "e2176f69-9e9c-48bd-b6fb-068d9970627a",
   "metadata": {},
   "outputs": [],
   "source": [
    "input_folder = 'input_images'\n",
    "output_folder = 'output_images_skimage'\n",
    "os.makedirs(output_folder, exist_ok=True)"
   ]
  },
  {
   "cell_type": "code",
   "execution_count": 6,
   "id": "bfea6251-4988-40b7-9110-149b3636d2a1",
   "metadata": {},
   "outputs": [],
   "source": [
    "def enhanc_Images(image_path, output_path):\n",
    "    image = io.imread(image_path)\n",
    "\n",
    "    equalized = exposure.equalize_hist(image)\n",
    "\n",
    "    smoothed = filters.gaussian(equalized, sigma=1, channel_axis=-1)\n",
    "\n",
    "    denoised = restoration.denoise_bilateral(smoothed, sigma_color=0.05, sigma_spatial=15, channel_axis=-1)\n",
    "\n",
    "    io.imsave(output_path, (denoised * 255).astype(\"uint8\"))\n",
    "\n",
    "for filename in os.listdir(input_folder):\n",
    "    if filename.lower().endswith(('.png', '.jpg', '.jpeg')):\n",
    "        in_path = os.path.join(input_folder, filename)\n",
    "        out_path = os.path.join(output_folder, filename)\n",
    "        enhance_image_skimage(in_path, out_path)"
   ]
  },
  {
   "cell_type": "code",
   "execution_count": null,
   "id": "32b1a54f-5958-4827-bf59-9817abac74ea",
   "metadata": {},
   "outputs": [],
   "source": []
  }
 ],
 "metadata": {
  "kernelspec": {
   "display_name": "Python [conda env:base] *",
   "language": "python",
   "name": "conda-base-py"
  },
  "language_info": {
   "codemirror_mode": {
    "name": "ipython",
    "version": 3
   },
   "file_extension": ".py",
   "mimetype": "text/x-python",
   "name": "python",
   "nbconvert_exporter": "python",
   "pygments_lexer": "ipython3",
   "version": "3.12.7"
  }
 },
 "nbformat": 4,
 "nbformat_minor": 5
}
